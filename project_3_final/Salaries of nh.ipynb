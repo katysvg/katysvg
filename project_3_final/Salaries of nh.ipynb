{
 "cells": [
  {
   "cell_type": "code",
   "execution_count": 4,
   "id": "847de419-19bf-4bd5-85ff-ec7420a5800a",
   "metadata": {},
   "outputs": [
    {
     "name": "stdout",
     "output_type": "stream",
     "text": [
      "  LastName FirstName                         Agency  \\\n",
      "0   MURRAY    HAROLD  NATURAL & CULT RESOURCES DEPT   \n",
      "1  FRANCIS     DAVID            TRANSPORTATION DEPT   \n",
      "2  CATALFO    ALFRED              LIQUOR COMMISSION   \n",
      "3     HALL     DAVID                    SAFETY DEPT   \n",
      "4  IVERSON      ADAM                    SAFETY DEPT   \n",
      "\n",
      "                           Title      PayType  \\\n",
      "0        33-2010 FIREFIGHTERS-L2  Regular Pay   \n",
      "1  53-6010 BRDG AND LOCK TNDRS-3  Regular Pay   \n",
      "2  41-2030 RETAIL SALESPERSONS-2  Regular Pay   \n",
      "3               STAFF INSTRUCTOR  Regular Pay   \n",
      "4               STAFF INSTRUCTOR  Regular Pay   \n",
      "\n",
      "                                 PayType_Description  TotalPay  \\\n",
      "0  A description of this pay type is not availabl...    235.71   \n",
      "1  A description of this pay type is not availabl...   4432.16   \n",
      "2  A description of this pay type is not availabl...   1551.76   \n",
      "3  A description of this pay type is not availabl...   2475.14   \n",
      "4  A description of this pay type is not availabl...   1238.98   \n",
      "\n",
      "  CurrentPosition  Unnamed: 8  \n",
      "0             YES         NaN  \n",
      "1             YES         NaN  \n",
      "2             YES         NaN  \n",
      "3             YES         NaN  \n",
      "4             YES         NaN  \n"
     ]
    }
   ],
   "source": [
    "import pandas as pd\n",
    "\n",
    " \n",
    "file_path = \"/Users/katy/Desktop/project_3/SalaryTransparency8420252347.csv\"\n",
    "\n",
    " \n",
    "df = pd.read_csv(file_path)\n",
    "\n",
    "# Display the first few rows\n",
    "print(df.head())\n"
   ]
  },
  {
   "cell_type": "code",
   "execution_count": 5,
   "id": "78d28c12-8797-4817-99ef-dd57c02114c0",
   "metadata": {},
   "outputs": [
    {
     "name": "stdout",
     "output_type": "stream",
     "text": [
      "Index(['LastName', 'FirstName', 'Agency', 'Title', 'PayType',\n",
      "       'PayType_Description', 'TotalPay', 'CurrentPosition', 'Unnamed: 8'],\n",
      "      dtype='object')\n"
     ]
    }
   ],
   "source": [
    "print(df.columns)"
   ]
  },
  {
   "cell_type": "code",
   "execution_count": 6,
   "id": "87816b28-d9f5-4a7b-ac8a-1b423f6e67dd",
   "metadata": {},
   "outputs": [
    {
     "name": "stdout",
     "output_type": "stream",
     "text": [
      "         LastName FirstName                         Agency  \\\n",
      "332          SENZ    CHERIE  NATURAL & CULT RESOURCES DEPT   \n",
      "1098      SANDERS     RALPH            TRANSPORTATION DEPT   \n",
      "320   MORRISSETTE     LINDA              LIQUOR COMMISSION   \n",
      "164       STEVENS   ANTHONY                     STATE DEPT   \n",
      "820        BOUTIN       MYA  NATURAL & CULT RESOURCES DEPT   \n",
      "\n",
      "                               Title      PayType  \\\n",
      "332          39-3090 RECR ATTNDNTS-1  Regular Pay   \n",
      "1098     17-3020 ENGINEERING TECHS-6  Regular Pay   \n",
      "320    41-2030 RETAIL SALESPERSONS-2  Regular Pay   \n",
      "164   NONCLASSIFIED SECRETARY OF STA  Regular Pay   \n",
      "820          39-3090 RECR ATTNDNTS-2  Regular Pay   \n",
      "\n",
      "                                    PayType_Description  TotalPay  \\\n",
      "332   A description of this pay type is not availabl...   4995.54   \n",
      "1098  A description of this pay type is not availabl...   4982.53   \n",
      "320   A description of this pay type is not availabl...   4981.14   \n",
      "164   A description of this pay type is not availabl...   4962.66   \n",
      "820   A description of this pay type is not availabl...   4957.60   \n",
      "\n",
      "     CurrentPosition  Unnamed: 8  \n",
      "332              YES         NaN  \n",
      "1098             YES         NaN  \n",
      "320              YES         NaN  \n",
      "164              YES         NaN  \n",
      "820              YES         NaN  \n"
     ]
    }
   ],
   "source": [
    "df_sorted = df.sort_values(by='TotalPay', ascending=False)\n",
    "print(df_sorted.head())"
   ]
  },
  {
   "cell_type": "code",
   "execution_count": 7,
   "id": "dd6366ad-35e1-4940-808f-9eb21ac46bf2",
   "metadata": {},
   "outputs": [
    {
     "name": "stdout",
     "output_type": "stream",
     "text": [
      "  FirstName LastName  TotalPay  TotalPay_Annualized\n",
      "0    HAROLD   MURRAY    235.71              6128.46\n",
      "1     DAVID  FRANCIS   4432.16            115236.16\n",
      "2    ALFRED  CATALFO   1551.76             40345.76\n",
      "3     DAVID     HALL   2475.14             64353.64\n",
      "4      ADAM  IVERSON   1238.98             32213.48\n"
     ]
    }
   ],
   "source": [
    "# Multiply each value by 26 because there are 26 pay periods in a year\n",
    "df['TotalPay_Annualized'] = df['TotalPay'] * 26\n",
    "\n",
    "# View the updated DataFrame\n",
    "print(df[['FirstName', 'LastName', 'TotalPay', 'TotalPay_Annualized']].head())"
   ]
  },
  {
   "cell_type": "code",
   "execution_count": 8,
   "id": "ee946efb-c3c6-49d7-a886-e62ab54def07",
   "metadata": {},
   "outputs": [
    {
     "name": "stdout",
     "output_type": "stream",
     "text": [
      "Sorted CSV saved to: /Users/katy/Desktop/project_3/highest_paid.csv\n"
     ]
    }
   ],
   "source": [
    "# Sort by annualized pay in descending order\n",
    "df_sorted = df.sort_values(by='TotalPay_Annualized', ascending=False)\n",
    "\n",
    "# Save to a new CSV file (change the name if needed)\n",
    "output_path = \"/Users/katy/Desktop/project_3/highest_paid.csv\"\n",
    "df_sorted.to_csv(output_path, index=False)\n",
    "\n",
    "print(\"Sorted CSV saved to:\", output_path)\n"
   ]
  },
  {
   "cell_type": "code",
   "execution_count": 9,
   "id": "27afbf46-1feb-42f3-b760-3e1f9ffaea82",
   "metadata": {},
   "outputs": [
    {
     "name": "stdout",
     "output_type": "stream",
     "text": [
      "  2024 NH Employee Pay represents all calendar year 2024 wages as reported on IRS Form W2  \\\n",
      "0                     with the following exceptions:                                        \n",
      "1                                                NaN                                        \n",
      "2  1) Payments exempt from transparency reporting...                                        \n",
      "3                                                NaN                                        \n",
      "4  2) Payments exempt from transparency reporting...                                        \n",
      "\n",
      "  Unnamed: 1  \n",
      "0        NaN  \n",
      "1        NaN  \n",
      "2        NaN  \n",
      "3        NaN  \n",
      "4        NaN  \n"
     ]
    }
   ],
   "source": [
    "import pandas as pd\n",
    "\n",
    "# Update this path to your actual file location\n",
    "file_path = \"/Users/katy/Desktop/project_3/2024-employee-pay.xlsx\"\n",
    "\n",
    "# Load the Excel file (default is the first sheet)\n",
    "df = pd.read_excel(file_path)\n",
    "\n",
    "# Preview the first few rows\n",
    "print(df.head())\n"
   ]
  },
  {
   "cell_type": "code",
   "execution_count": 10,
   "id": "373d0734-05d2-441f-9448-fe6630040084",
   "metadata": {},
   "outputs": [
    {
     "ename": "UnicodeDecodeError",
     "evalue": "'utf-8' codec can't decode byte 0xef in position 15: invalid continuation byte",
     "output_type": "error",
     "traceback": [
      "\u001b[31m---------------------------------------------------------------------------\u001b[39m",
      "\u001b[31mUnicodeDecodeError\u001b[39m                        Traceback (most recent call last)",
      "\u001b[36mCell\u001b[39m\u001b[36m \u001b[39m\u001b[32mIn[10]\u001b[39m\u001b[32m, line 7\u001b[39m\n\u001b[32m      4\u001b[39m file_path = \u001b[33m\"\u001b[39m\u001b[33m/Users/katy/Desktop/project_3/2024-employee-pay.csv\u001b[39m\u001b[33m\"\u001b[39m\n\u001b[32m      6\u001b[39m \u001b[38;5;66;03m# Read the CSV\u001b[39;00m\n\u001b[32m----> \u001b[39m\u001b[32m7\u001b[39m df = \u001b[43mpd\u001b[49m\u001b[43m.\u001b[49m\u001b[43mread_csv\u001b[49m\u001b[43m(\u001b[49m\u001b[43mfile_path\u001b[49m\u001b[43m)\u001b[49m\n\u001b[32m      9\u001b[39m \u001b[38;5;66;03m# Preview the first few rows\u001b[39;00m\n\u001b[32m     10\u001b[39m \u001b[38;5;28mprint\u001b[39m(df.head())\n",
      "\u001b[36mFile \u001b[39m\u001b[32m~/.pyenv/versions/3.12.3/lib/python3.12/site-packages/pandas/io/parsers/readers.py:1026\u001b[39m, in \u001b[36mread_csv\u001b[39m\u001b[34m(filepath_or_buffer, sep, delimiter, header, names, index_col, usecols, dtype, engine, converters, true_values, false_values, skipinitialspace, skiprows, skipfooter, nrows, na_values, keep_default_na, na_filter, verbose, skip_blank_lines, parse_dates, infer_datetime_format, keep_date_col, date_parser, date_format, dayfirst, cache_dates, iterator, chunksize, compression, thousands, decimal, lineterminator, quotechar, quoting, doublequote, escapechar, comment, encoding, encoding_errors, dialect, on_bad_lines, delim_whitespace, low_memory, memory_map, float_precision, storage_options, dtype_backend)\u001b[39m\n\u001b[32m   1013\u001b[39m kwds_defaults = _refine_defaults_read(\n\u001b[32m   1014\u001b[39m     dialect,\n\u001b[32m   1015\u001b[39m     delimiter,\n\u001b[32m   (...)\u001b[39m\u001b[32m   1022\u001b[39m     dtype_backend=dtype_backend,\n\u001b[32m   1023\u001b[39m )\n\u001b[32m   1024\u001b[39m kwds.update(kwds_defaults)\n\u001b[32m-> \u001b[39m\u001b[32m1026\u001b[39m \u001b[38;5;28;01mreturn\u001b[39;00m \u001b[43m_read\u001b[49m\u001b[43m(\u001b[49m\u001b[43mfilepath_or_buffer\u001b[49m\u001b[43m,\u001b[49m\u001b[43m \u001b[49m\u001b[43mkwds\u001b[49m\u001b[43m)\u001b[49m\n",
      "\u001b[36mFile \u001b[39m\u001b[32m~/.pyenv/versions/3.12.3/lib/python3.12/site-packages/pandas/io/parsers/readers.py:620\u001b[39m, in \u001b[36m_read\u001b[39m\u001b[34m(filepath_or_buffer, kwds)\u001b[39m\n\u001b[32m    617\u001b[39m _validate_names(kwds.get(\u001b[33m\"\u001b[39m\u001b[33mnames\u001b[39m\u001b[33m\"\u001b[39m, \u001b[38;5;28;01mNone\u001b[39;00m))\n\u001b[32m    619\u001b[39m \u001b[38;5;66;03m# Create the parser.\u001b[39;00m\n\u001b[32m--> \u001b[39m\u001b[32m620\u001b[39m parser = \u001b[43mTextFileReader\u001b[49m\u001b[43m(\u001b[49m\u001b[43mfilepath_or_buffer\u001b[49m\u001b[43m,\u001b[49m\u001b[43m \u001b[49m\u001b[43m*\u001b[49m\u001b[43m*\u001b[49m\u001b[43mkwds\u001b[49m\u001b[43m)\u001b[49m\n\u001b[32m    622\u001b[39m \u001b[38;5;28;01mif\u001b[39;00m chunksize \u001b[38;5;129;01mor\u001b[39;00m iterator:\n\u001b[32m    623\u001b[39m     \u001b[38;5;28;01mreturn\u001b[39;00m parser\n",
      "\u001b[36mFile \u001b[39m\u001b[32m~/.pyenv/versions/3.12.3/lib/python3.12/site-packages/pandas/io/parsers/readers.py:1620\u001b[39m, in \u001b[36mTextFileReader.__init__\u001b[39m\u001b[34m(self, f, engine, **kwds)\u001b[39m\n\u001b[32m   1617\u001b[39m     \u001b[38;5;28mself\u001b[39m.options[\u001b[33m\"\u001b[39m\u001b[33mhas_index_names\u001b[39m\u001b[33m\"\u001b[39m] = kwds[\u001b[33m\"\u001b[39m\u001b[33mhas_index_names\u001b[39m\u001b[33m\"\u001b[39m]\n\u001b[32m   1619\u001b[39m \u001b[38;5;28mself\u001b[39m.handles: IOHandles | \u001b[38;5;28;01mNone\u001b[39;00m = \u001b[38;5;28;01mNone\u001b[39;00m\n\u001b[32m-> \u001b[39m\u001b[32m1620\u001b[39m \u001b[38;5;28mself\u001b[39m._engine = \u001b[38;5;28;43mself\u001b[39;49m\u001b[43m.\u001b[49m\u001b[43m_make_engine\u001b[49m\u001b[43m(\u001b[49m\u001b[43mf\u001b[49m\u001b[43m,\u001b[49m\u001b[43m \u001b[49m\u001b[38;5;28;43mself\u001b[39;49m\u001b[43m.\u001b[49m\u001b[43mengine\u001b[49m\u001b[43m)\u001b[49m\n",
      "\u001b[36mFile \u001b[39m\u001b[32m~/.pyenv/versions/3.12.3/lib/python3.12/site-packages/pandas/io/parsers/readers.py:1898\u001b[39m, in \u001b[36mTextFileReader._make_engine\u001b[39m\u001b[34m(self, f, engine)\u001b[39m\n\u001b[32m   1895\u001b[39m     \u001b[38;5;28;01mraise\u001b[39;00m \u001b[38;5;167;01mValueError\u001b[39;00m(msg)\n\u001b[32m   1897\u001b[39m \u001b[38;5;28;01mtry\u001b[39;00m:\n\u001b[32m-> \u001b[39m\u001b[32m1898\u001b[39m     \u001b[38;5;28;01mreturn\u001b[39;00m \u001b[43mmapping\u001b[49m\u001b[43m[\u001b[49m\u001b[43mengine\u001b[49m\u001b[43m]\u001b[49m\u001b[43m(\u001b[49m\u001b[43mf\u001b[49m\u001b[43m,\u001b[49m\u001b[43m \u001b[49m\u001b[43m*\u001b[49m\u001b[43m*\u001b[49m\u001b[38;5;28;43mself\u001b[39;49m\u001b[43m.\u001b[49m\u001b[43moptions\u001b[49m\u001b[43m)\u001b[49m\n\u001b[32m   1899\u001b[39m \u001b[38;5;28;01mexcept\u001b[39;00m \u001b[38;5;167;01mException\u001b[39;00m:\n\u001b[32m   1900\u001b[39m     \u001b[38;5;28;01mif\u001b[39;00m \u001b[38;5;28mself\u001b[39m.handles \u001b[38;5;129;01mis\u001b[39;00m \u001b[38;5;129;01mnot\u001b[39;00m \u001b[38;5;28;01mNone\u001b[39;00m:\n",
      "\u001b[36mFile \u001b[39m\u001b[32m~/.pyenv/versions/3.12.3/lib/python3.12/site-packages/pandas/io/parsers/c_parser_wrapper.py:93\u001b[39m, in \u001b[36mCParserWrapper.__init__\u001b[39m\u001b[34m(self, src, **kwds)\u001b[39m\n\u001b[32m     90\u001b[39m \u001b[38;5;28;01mif\u001b[39;00m kwds[\u001b[33m\"\u001b[39m\u001b[33mdtype_backend\u001b[39m\u001b[33m\"\u001b[39m] == \u001b[33m\"\u001b[39m\u001b[33mpyarrow\u001b[39m\u001b[33m\"\u001b[39m:\n\u001b[32m     91\u001b[39m     \u001b[38;5;66;03m# Fail here loudly instead of in cython after reading\u001b[39;00m\n\u001b[32m     92\u001b[39m     import_optional_dependency(\u001b[33m\"\u001b[39m\u001b[33mpyarrow\u001b[39m\u001b[33m\"\u001b[39m)\n\u001b[32m---> \u001b[39m\u001b[32m93\u001b[39m \u001b[38;5;28mself\u001b[39m._reader = \u001b[43mparsers\u001b[49m\u001b[43m.\u001b[49m\u001b[43mTextReader\u001b[49m\u001b[43m(\u001b[49m\u001b[43msrc\u001b[49m\u001b[43m,\u001b[49m\u001b[43m \u001b[49m\u001b[43m*\u001b[49m\u001b[43m*\u001b[49m\u001b[43mkwds\u001b[49m\u001b[43m)\u001b[49m\n\u001b[32m     95\u001b[39m \u001b[38;5;28mself\u001b[39m.unnamed_cols = \u001b[38;5;28mself\u001b[39m._reader.unnamed_cols\n\u001b[32m     97\u001b[39m \u001b[38;5;66;03m# error: Cannot determine type of 'names'\u001b[39;00m\n",
      "\u001b[36mFile \u001b[39m\u001b[32mpandas/_libs/parsers.pyx:574\u001b[39m, in \u001b[36mpandas._libs.parsers.TextReader.__cinit__\u001b[39m\u001b[34m()\u001b[39m\n",
      "\u001b[36mFile \u001b[39m\u001b[32mpandas/_libs/parsers.pyx:663\u001b[39m, in \u001b[36mpandas._libs.parsers.TextReader._get_header\u001b[39m\u001b[34m()\u001b[39m\n",
      "\u001b[36mFile \u001b[39m\u001b[32mpandas/_libs/parsers.pyx:874\u001b[39m, in \u001b[36mpandas._libs.parsers.TextReader._tokenize_rows\u001b[39m\u001b[34m()\u001b[39m\n",
      "\u001b[36mFile \u001b[39m\u001b[32mpandas/_libs/parsers.pyx:891\u001b[39m, in \u001b[36mpandas._libs.parsers.TextReader._check_tokenize_status\u001b[39m\u001b[34m()\u001b[39m\n",
      "\u001b[36mFile \u001b[39m\u001b[32mpandas/_libs/parsers.pyx:2053\u001b[39m, in \u001b[36mpandas._libs.parsers.raise_parser_error\u001b[39m\u001b[34m()\u001b[39m\n",
      "\u001b[36mFile \u001b[39m\u001b[32m<frozen codecs>:322\u001b[39m, in \u001b[36mdecode\u001b[39m\u001b[34m(self, input, final)\u001b[39m\n",
      "\u001b[31mUnicodeDecodeError\u001b[39m: 'utf-8' codec can't decode byte 0xef in position 15: invalid continuation byte"
     ]
    }
   ],
   "source": [
    "import pandas as pd\n",
    "\n",
    "# Update this with your actual macOS username\n",
    "file_path = \"/Users/katy/Desktop/project_3/2024-employee-pay.csv\"\n",
    "\n",
    "# Read the CSV\n",
    "df = pd.read_csv(file_path)\n",
    "\n",
    "# Preview the first few rows\n",
    "print(df.head())\n"
   ]
  },
  {
   "cell_type": "code",
   "execution_count": 12,
   "id": "d4fc8ea0-97b2-49e0-9d6f-bd2758db8044",
   "metadata": {},
   "outputs": [
    {
     "name": "stdout",
     "output_type": "stream",
     "text": [
      "  EMPLOYEE LAST NAME EMPLOYEE FIRST NAME   MI                          TITLE  \\\n",
      "0            STROPLE           STEPHANIE  NaN  15-1230 COMPUTER SUPP SPECS-2   \n",
      "1            STROPLE           STEPHANIE  NaN  15-1230 COMPUTER SUPP SPECS-2   \n",
      "2            STROPLE           STEPHANIE  NaN  15-1230 COMPUTER SUPP SPECS-2   \n",
      "3              STOUT              ANDREW  NaN     49-9070 GENERAL RPR WKRS-3   \n",
      "4              STOUT              ANDREW  NaN     49-9070 GENERAL RPR WKRS-3   \n",
      "\n",
      "     PAY CATEGORY                       AGENCY  ANNUAL SALARY  \\\n",
      "0     Holiday Pay  INFORMATION TECHNOLOGY DEPT        2525.40   \n",
      "1  Other Pay Item  INFORMATION TECHNOLOGY DEPT        2100.00   \n",
      "2     Regular Pay  INFORMATION TECHNOLOGY DEPT       48166.58   \n",
      "3     Holiday Pay  ENVIRONMENTAL SERVICES DEPT        1668.69   \n",
      "4        Overtime  ENVIRONMENTAL SERVICES DEPT         441.41   \n",
      "\n",
      "   INTERNAL EMPL ID ACTIVE/INACTIVE  \n",
      "0                34               A  \n",
      "1                34               A  \n",
      "2                34               A  \n",
      "3                47               A  \n",
      "4                47               A  \n"
     ]
    }
   ],
   "source": [
    "import pandas as pd\n",
    "\n",
    "file_path = \"/Users/katy/Desktop/project_3/2024-employee-pay.xlsx\"\n",
    "\n",
    "# Option 2: By sheet index (0-based, so 1 means the second sheet)\n",
    "df = pd.read_excel(file_path, sheet_name=1)\n",
    "\n",
    "print(df.head())\n"
   ]
  },
  {
   "cell_type": "code",
   "execution_count": 16,
   "id": "b6b77dcb-ab27-4dcf-96d4-aaedbc7a3bd4",
   "metadata": {},
   "outputs": [
    {
     "name": "stdout",
     "output_type": "stream",
     "text": [
      "      EMPLOYEE LAST NAME EMPLOYEE FIRST NAME MI  \\\n",
      "8252              SWEATT               DWANE  D   \n",
      "8461               DUVAL              JENNIE  V   \n",
      "30920           WEINBERG            MITCHELL  L   \n",
      "4310              DUPUIS              CLAUDE  J   \n",
      "17694               CALL                ERIC  J   \n",
      "\n",
      "                               TITLE PAY CATEGORY            AGENCY  \\\n",
      "8252   33-1011 SUPS CORR OFFICERS-C2     Overtime  CORRECTIONS DEPT   \n",
      "8461          CHIEF MEDICAL EXAMINER  Regular Pay      JUSTICE DEPT   \n",
      "30920  DEPUTY CHIEF MEDICAL EXAMINER  Regular Pay      JUSTICE DEPT   \n",
      "4310   33-1011 SUPS CORR OFFICERS-C3     Overtime  CORRECTIONS DEPT   \n",
      "17694     33-3050 POLICE OFFICERS-P5  Regular Pay       SAFETY DEPT   \n",
      "\n",
      "       ANNUAL SALARY  INTERNAL EMPL ID ACTIVE/INACTIVE  \n",
      "8252       272800.67             68249               A  \n",
      "8461       264999.80             69646               A  \n",
      "30920      249999.88            140283               A  \n",
      "4310       218524.23             37001               A  \n",
      "17694      216791.30            113280               A  \n"
     ]
    }
   ],
   "source": [
    "df_sorted = df.sort_values(by='ANNUAL SALARY', ascending=False)\n",
    "\n",
    "print(df_sorted.head())\n"
   ]
  },
  {
   "cell_type": "code",
   "execution_count": 15,
   "id": "59f18763-fc8a-4fd6-908c-232ee0165b0c",
   "metadata": {},
   "outputs": [
    {
     "name": "stdout",
     "output_type": "stream",
     "text": [
      "Index(['EMPLOYEE LAST NAME', 'EMPLOYEE FIRST NAME', 'MI', 'TITLE',\n",
      "       'PAY CATEGORY', 'AGENCY', 'ANNUAL SALARY', 'INTERNAL EMPL ID',\n",
      "       'ACTIVE/INACTIVE'],\n",
      "      dtype='object')\n"
     ]
    }
   ],
   "source": [
    "print(df.columns)"
   ]
  },
  {
   "cell_type": "code",
   "execution_count": 17,
   "id": "2d91187d-25b6-478f-b1d6-dc74d79f2499",
   "metadata": {},
   "outputs": [
    {
     "name": "stdout",
     "output_type": "stream",
     "text": [
      "Sorted CSV saved here: /Users/katy/Desktop/project_3/2024-employee-pay-sorted.csv\n"
     ]
    }
   ],
   "source": [
    "df_sorted = df.sort_values(by='ANNUAL SALARY', ascending=False)\n",
    "\n",
    "# Save to a new CSV file\n",
    "output_path = \"/Users/katy/Desktop/project_3/2024-employee-pay-sorted.csv\"\n",
    "df_sorted.to_csv(output_path, index=False)\n",
    "\n",
    "print(f\"Sorted CSV saved here: {output_path}\")"
   ]
  },
  {
   "cell_type": "code",
   "execution_count": 20,
   "id": "ef5df1ad-9628-40a3-afcc-67b8ef3e1e50",
   "metadata": {},
   "outputs": [
    {
     "name": "stdout",
     "output_type": "stream",
     "text": [
      "Filtered CSVs saved: regular-pay.csv and overtime-pay.csv\n"
     ]
    }
   ],
   "source": [
    "# Filter for Overtime pay\n",
    "df_overtime = df[df['PAY CATEGORY'].str.lower() == 'overtime']\n",
    "df_overtime = df_overtime.sort_values(by='ANNUAL SALARY', ascending=False)\n",
    "df_overtime.to_csv(\"/Users/katy/Desktop/project_3/overtime-pay.csv\", index=False)\n",
    "\n",
    "print(\"Filtered CSVs saved: regular-pay.csv and overtime-pay.csv\")\n"
   ]
  },
  {
   "cell_type": "code",
   "execution_count": 21,
   "id": "9339ee1f-ed5f-4f61-b4d6-3383599c6753",
   "metadata": {},
   "outputs": [
    {
     "name": "stdout",
     "output_type": "stream",
     "text": [
      "Updated CSV saved with CORRECTIONS DEPT total: /Users/katy/Desktop/project_3/overtime-pay-with-total.csv\n"
     ]
    }
   ],
   "source": [
    "import pandas as pd\n",
    "\n",
    "# Load the overtime pay CSV\n",
    "file_path = \"/Users/katy/Desktop/project_3/overtime-pay.csv\"\n",
    "df = pd.read_csv(file_path)\n",
    "\n",
    "# Filter for rows where AGENCY is \"CORRECTIONS DEPT\"\n",
    "corrections_df = df[df['AGENCY'].str.upper() == 'CORRECTIONS DEPT']\n",
    "\n",
    "# Calculate total annual salary for that agency\n",
    "total_salary = corrections_df['ANNUAL SALARY'].sum()\n",
    "\n",
    "# Create a summary row\n",
    "summary_row = pd.DataFrame([{\n",
    "    'AGENCY': 'CORRECTIONS DEPT TOTAL',\n",
    "    'ANNUAL SALARY': total_salary\n",
    "}])\n",
    "\n",
    "# Append the summary row to the bottom\n",
    "df_with_total = pd.concat([df, summary_row], ignore_index=True)\n",
    "\n",
    "# Save the updated CSV\n",
    "output_path = \"/Users/katy/Desktop/project_3/overtime-pay-with-total.csv\"\n",
    "df_with_total.to_csv(output_path, index=False)\n",
    "\n",
    "print(f\"Updated CSV saved with CORRECTIONS DEPT total: {output_path}\")\n"
   ]
  },
  {
   "cell_type": "code",
   "execution_count": 22,
   "id": "5788d907-1100-4c48-86c7-bcb356c01d56",
   "metadata": {},
   "outputs": [
    {
     "name": "stdout",
     "output_type": "stream",
     "text": [
      "Total annual salary paid to CORRECTIONS DEPT: $92,289,820.32\n"
     ]
    }
   ],
   "source": [
    "import pandas as pd\n",
    "\n",
    "# Load the sorted employee pay file\n",
    "file_path = \"/Users/katy/Desktop/project_3/2024-employee-pay-sorted.csv\"\n",
    "df = pd.read_csv(file_path)\n",
    "\n",
    "# Ensure consistent casing and spacing in AGENCY column\n",
    "df['AGENCY'] = df['AGENCY'].str.upper().str.strip()\n",
    "\n",
    "# Filter for CORRECTIONS DEPT\n",
    "corrections_df = df[df['AGENCY'] == 'CORRECTIONS DEPT']\n",
    "\n",
    "# Sum the AnnualSalary column\n",
    "total_salary = corrections_df['ANNUAL SALARY'].sum()\n",
    "\n",
    "print(f\"Total annual salary paid to CORRECTIONS DEPT: ${total_salary:,.2f}\")\n"
   ]
  },
  {
   "cell_type": "code",
   "execution_count": null,
   "id": "ca4993e5-32e3-43df-bb87-22fbfbae3db6",
   "metadata": {},
   "outputs": [],
   "source": []
  }
 ],
 "metadata": {
  "kernelspec": {
   "display_name": "Python 3 (ipykernel)",
   "language": "python",
   "name": "python3"
  },
  "language_info": {
   "codemirror_mode": {
    "name": "ipython",
    "version": 3
   },
   "file_extension": ".py",
   "mimetype": "text/x-python",
   "name": "python",
   "nbconvert_exporter": "python",
   "pygments_lexer": "ipython3",
   "version": "3.12.3"
  }
 },
 "nbformat": 4,
 "nbformat_minor": 5
}
