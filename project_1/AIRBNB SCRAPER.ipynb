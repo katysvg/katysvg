{
 "cells": [
  {
   "cell_type": "code",
   "execution_count": null,
   "id": "cee03492-e965-42ed-8620-a393e93c4bc4",
   "metadata": {},
   "outputs": [],
   "source": [
    "!pip install apify-client"
   ]
  },
  {
   "cell_type": "code",
   "execution_count": null,
   "id": "9cdb636c-f22c-43a5-a509-3baa8aa91516",
   "metadata": {},
   "outputs": [],
   "source": [
    "from apify_client import ApifyClient\n",
    "\n",
    "# Your Apify API token\n",
    "TOKEN = \"apify_api_KFXhijcD1Xy0JTj2mickxAXGbfBBIC3sskjo\"\n",
    "\n",
    "# Initialize the ApifyClient\n",
    "apify_client = ApifyClient(TOKEN)\n",
    "\n",
    "# Define New Hampshire locations for more accurate Airbnb searches\n",
    "run_input = {\n",
    "    \"search_queries\": [\n",
    "        \"Portsmouth, NH\"\n",
    "    ]\n",
    "}\n",
    "\n",
    "# Run the Actor\n",
    "run = apify_client.actor(\"rigelbytes/airbnb-listing-urls\").call(run_input=run_input)\n",
    "\n",
    "# Output link to dataset\n",
    "print(\"💾 Check your data here: https://console.apify.com/storage/datasets/\" + run[\"defaultDatasetId\"])\n",
    "\n",
    "# Fetch and print the results\n",
    "for item in apify_client.dataset(run[\"defaultDatasetId\"]).iterate_items():\n",
    "    print(item)"
   ]
  },
  {
   "cell_type": "code",
   "execution_count": null,
   "id": "0bdf1433-2f16-4678-aa35-bdd1102de1d7",
   "metadata": {},
   "outputs": [],
   "source": [
    "print(\"💾 Check your data here: https://console.apify.com/storage/datasets/\" + run[\"defaultDatasetId\"])\n"
   ]
  },
  {
   "cell_type": "code",
   "execution_count": 4,
   "id": "9e003efa-52c2-4748-b579-04638f09058a",
   "metadata": {},
   "outputs": [
    {
     "name": "stdout",
     "output_type": "stream",
     "text": [
      "                                               image  \\\n",
      "0  https://a0.muscache.com/im/pictures/hosting/Ho...   \n",
      "1  https://a0.muscache.com/im/pictures/hosting/Ho...   \n",
      "2  https://a0.muscache.com/im/pictures/c86a31dc-6...   \n",
      "3  https://a0.muscache.com/im/pictures/bb80411c-f...   \n",
      "4  https://a0.muscache.com/im/pictures/99d890f9-a...   \n",
      "\n",
      "                                                url  \\\n",
      "0  https://www.airbnb.com/rooms/1441547696906451168   \n",
      "1  https://www.airbnb.com/rooms/1124035069303745127   \n",
      "2             https://www.airbnb.com/rooms/28686950   \n",
      "3             https://www.airbnb.com/rooms/19013969   \n",
      "4   https://www.airbnb.com/rooms/882512656158505265   \n",
      "\n",
      "                            name  reviews  price  rating  \\\n",
      "0             Home in Portsmouth        1      0     NaN   \n",
      "1  Portsmouth Waterfront Cottage       66      0    4.86   \n",
      "2            Cozy West End House      470      0    4.84   \n",
      "3      Coastal home on the water      275      0    4.97   \n",
      "4     Enjoy downtown Portsmouth!      100      0    4.98   \n",
      "\n",
      "                                home_details        lat        lng  \\\n",
      "0  2 guests, 1 bedroom, 1 bed, 1 shared bath  43.057430 -70.779790   \n",
      "1       4 guests, 2 bedrooms, 2 beds, 1 bath  43.081736 -70.765732   \n",
      "2    5 guests, 2 bedrooms, 2 beds, 1.5 baths  43.071090 -70.774840   \n",
      "3        3 guests, 1 bedroom, 3 beds, 1 bath  43.096010 -70.764650   \n",
      "4            2 guests, Studio, 1 bed, 1 bath  43.076810 -70.755090   \n",
      "\n",
      "                     title  \n",
      "0       Room in Portsmouth  \n",
      "1    Cottage in Portsmouth  \n",
      "2       Home in Portsmouth  \n",
      "3   Guest suite in Kittery  \n",
      "4  Apartment in Portsmouth  \n"
     ]
    }
   ],
   "source": [
    "import pandas as pd\n",
    "from apify_client import ApifyClient\n",
    "\n",
    "# Your Apify API token\n",
    "TOKEN = \"apify_api_KFXhijcD1Xy0JTj2mickxAXGbfBBIC3sskjo\"\n",
    "apify_client = ApifyClient(TOKEN)\n",
    "\n",
    "# Replace with your actual dataset ID from the previous run\n",
    "dataset_id = \"opaduxCncrjzvjjXd\"\n",
    "\n",
    "# Get the results from the dataset\n",
    "results = list(apify_client.dataset(dataset_id).iterate_items())\n",
    "\n",
    "# Load into a pandas DataFrame\n",
    "df = pd.DataFrame(results)\n",
    "\n",
    "# Show the first few rows\n",
    "print(df.head())\n",
    "\n",
    "# Save to CSV\n",
    "df.to_csv(\"airbnb_listings_nh.csv\", index=False)"
   ]
  },
  {
   "cell_type": "code",
   "execution_count": 5,
   "id": "2f44fa8f-e321-4da6-9dc4-13af7caed033",
   "metadata": {},
   "outputs": [
    {
     "name": "stdout",
     "output_type": "stream",
     "text": [
      "Total items fetched: 280\n"
     ]
    }
   ],
   "source": [
    "print(f\"Total items fetched: {len(results)}\")\n"
   ]
  },
  {
   "cell_type": "code",
   "execution_count": 6,
   "id": "c28f63a7-96c6-40a8-8008-6165a9dfb493",
   "metadata": {},
   "outputs": [],
   "source": [
    "df.to_csv(\"airbnb_listings_nh.csv\", index=False)"
   ]
  },
  {
   "cell_type": "code",
   "execution_count": 7,
   "id": "f8184c53-db51-4040-80bc-b4a830bb4206",
   "metadata": {},
   "outputs": [
    {
     "name": "stdout",
     "output_type": "stream",
     "text": [
      "Fetched 280 rows\n",
      "Index(['image', 'url', 'name', 'reviews', 'price', 'rating', 'home_details',\n",
      "       'lat', 'lng', 'title'],\n",
      "      dtype='object')\n",
      "                                               image  \\\n",
      "0  https://a0.muscache.com/im/pictures/hosting/Ho...   \n",
      "1  https://a0.muscache.com/im/pictures/hosting/Ho...   \n",
      "2  https://a0.muscache.com/im/pictures/c86a31dc-6...   \n",
      "3  https://a0.muscache.com/im/pictures/bb80411c-f...   \n",
      "4  https://a0.muscache.com/im/pictures/99d890f9-a...   \n",
      "\n",
      "                                                url  \\\n",
      "0  https://www.airbnb.com/rooms/1441547696906451168   \n",
      "1  https://www.airbnb.com/rooms/1124035069303745127   \n",
      "2             https://www.airbnb.com/rooms/28686950   \n",
      "3             https://www.airbnb.com/rooms/19013969   \n",
      "4   https://www.airbnb.com/rooms/882512656158505265   \n",
      "\n",
      "                            name  reviews  price  rating  \\\n",
      "0             Home in Portsmouth        1      0     NaN   \n",
      "1  Portsmouth Waterfront Cottage       66      0    4.86   \n",
      "2            Cozy West End House      470      0    4.84   \n",
      "3      Coastal home on the water      275      0    4.97   \n",
      "4     Enjoy downtown Portsmouth!      100      0    4.98   \n",
      "\n",
      "                                home_details        lat        lng  \\\n",
      "0  2 guests, 1 bedroom, 1 bed, 1 shared bath  43.057430 -70.779790   \n",
      "1       4 guests, 2 bedrooms, 2 beds, 1 bath  43.081736 -70.765732   \n",
      "2    5 guests, 2 bedrooms, 2 beds, 1.5 baths  43.071090 -70.774840   \n",
      "3        3 guests, 1 bedroom, 3 beds, 1 bath  43.096010 -70.764650   \n",
      "4            2 guests, Studio, 1 bed, 1 bath  43.076810 -70.755090   \n",
      "\n",
      "                     title  \n",
      "0       Room in Portsmouth  \n",
      "1    Cottage in Portsmouth  \n",
      "2       Home in Portsmouth  \n",
      "3   Guest suite in Kittery  \n",
      "4  Apartment in Portsmouth  \n"
     ]
    }
   ],
   "source": [
    "print(f\"Fetched {len(results)} rows\")\n",
    "print(df.columns)\n",
    "print(df.head())"
   ]
  },
  {
   "cell_type": "code",
   "execution_count": 8,
   "id": "34f4d9a8-90b5-43a2-b7d5-7173320cf2c0",
   "metadata": {},
   "outputs": [],
   "source": [
    "df.to_csv(\"airbnb_listings_nh.csv\", index=False)\n"
   ]
  },
  {
   "cell_type": "code",
   "execution_count": 9,
   "id": "24e52b01-4768-4a13-8173-ecbe0cb13946",
   "metadata": {},
   "outputs": [],
   "source": [
    "import pandas as pd\n"
   ]
  },
  {
   "cell_type": "code",
   "execution_count": null,
   "id": "98438471-559c-4300-8520-d79386038ea4",
   "metadata": {},
   "outputs": [],
   "source": []
  }
 ],
 "metadata": {
  "kernelspec": {
   "display_name": "Python 3 (ipykernel)",
   "language": "python",
   "name": "python3"
  },
  "language_info": {
   "codemirror_mode": {
    "name": "ipython",
    "version": 3
   },
   "file_extension": ".py",
   "mimetype": "text/x-python",
   "name": "python",
   "nbconvert_exporter": "python",
   "pygments_lexer": "ipython3",
   "version": "3.12.3"
  }
 },
 "nbformat": 4,
 "nbformat_minor": 5
}
